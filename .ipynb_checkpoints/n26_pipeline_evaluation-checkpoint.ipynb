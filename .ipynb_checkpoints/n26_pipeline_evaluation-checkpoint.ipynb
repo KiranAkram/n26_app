{
 "cells": [
  {
   "cell_type": "markdown",
   "id": "f2432e91-039b-495f-b92a-ae8a0a0d52db",
   "metadata": {},
   "source": [
    "Building a Customer Service chatbot for the N26 customers to help them with their queries\n",
    " - All the data is taken from N26 Bank's faq support pages: https://support.n26.com/en-eu\n",
    "\n",
    "- Built a rag system using hybrid search retrieve the best possible documents matched with the user query\n",
    "- OpenAI and Langchain frameworks are used\n",
    "- To enhance the retrieval process in RAG, Hybrid Search (keyword search and vector search) appproach is used\n",
    "  - for keyword search BM25 algorithm is used\n",
    "  - for vectorstore DocArrayInMemorySearch is used while embedding from OpenaAI are used (one cam also use chroma or other available vectore stores)\n",
    "  \n",
    "- For evaluation of the RAG pipeline, ragas library is used https://docs.ragas.io/en/stable/concepts/metrics/available_metrics/\n",
    "  - These metrics are used to evaluate the rag pipeline (these metrics are llm based)\n",
    "    - answer_relevancy (text generation)\n",
    "    - faithfulness (text generation)\n",
    "    - context_recall (text retrieval)\n",
    "    - context_precision (text retrieval)"
   ]
  },
  {
   "cell_type": "code",
   "execution_count": null,
   "id": "9ecbc690-c9c3-4572-a5bc-0683b3f8ba83",
   "metadata": {},
   "outputs": [],
   "source": []
  },
  {
   "cell_type": "code",
   "execution_count": 1,
   "id": "c18c3c8e-23f6-4067-be6b-936c7c2c1886",
   "metadata": {
    "scrolled": true
   },
   "outputs": [],
   "source": [
    "#importing libraries\n",
    "import os\n",
    "import numpy as np\n",
    "import pandas as pd\n",
    "import re\n",
    "\n",
    "from langchain.text_splitter import RecursiveCharacterTextSplitter\n",
    "from langchain_openai.embeddings import OpenAIEmbeddings\n",
    "from langchain_community.vectorstores import DocArrayInMemorySearch\n",
    "from langchain.schema import Document\n",
    "from langchain.prompts import PromptTemplate\n",
    "\n",
    "from langchain_openai.chat_models import ChatOpenAI\n",
    "from langchain_core.output_parsers import StrOutputParser\n",
    "from operator import itemgetter\n",
    "from langchain.retrievers import BM25Retriever, EnsembleRetriever\n",
    "\n",
    "\n",
    "from datasets import Dataset\n",
    "from functools import reduce"
   ]
  },
  {
   "cell_type": "code",
   "execution_count": 2,
   "id": "df03e7b7-0c39-4cc3-8716-c180cbfdce1d",
   "metadata": {},
   "outputs": [],
   "source": [
    "import logging\n",
    "\n",
    "# Set the logging level for httpx to WARNING to suppress INFO logs\n",
    "logging.getLogger(\"httpx\").setLevel(logging.WARNING)"
   ]
  },
  {
   "cell_type": "code",
   "execution_count": 4,
   "id": "dc350fd7-4566-4edd-9739-71de47b0a8e1",
   "metadata": {},
   "outputs": [],
   "source": [
    "from ragas import evaluate\n",
    "from ragas.metrics import (\n",
    "    answer_relevancy,\n",
    "    faithfulness,\n",
    "    context_recall,\n",
    "    context_precision,\n",
    "    )"
   ]
  },
  {
   "cell_type": "code",
   "execution_count": null,
   "id": "79178601-235d-468b-8542-c9f16b4e6d56",
   "metadata": {},
   "outputs": [],
   "source": []
  },
  {
   "cell_type": "code",
   "execution_count": 5,
   "id": "1dd28cab-6fbe-44bf-8ce9-0bc798cd3149",
   "metadata": {},
   "outputs": [],
   "source": [
    "# Set OpenAI API key\n",
    "os.environ[\"OPENAI_API_KEY\"] = \"your openai api key here\"\n",
    "OPENAI_API_KEY = \"your openai api key here\"\n"
   ]
  },
  {
   "cell_type": "code",
   "execution_count": null,
   "id": "21705188-feed-4d85-9290-efedfb198bf9",
   "metadata": {},
   "outputs": [],
   "source": []
  },
  {
   "cell_type": "code",
   "execution_count": 6,
   "id": "a241ca26-ce95-4b3b-9ae0-9e0c0686f8b1",
   "metadata": {},
   "outputs": [],
   "source": [
    "#reading all the data and combining the sheets data together and cleaning and return chunks\n",
    "def combine_excel_sheets(file_path):\n",
    "    # Read all sheets from the Excel file\n",
    "    sheets = pd.read_excel(file_path, sheet_name=None)\n",
    "    \n",
    "    # Combine data from all sheets into one column\n",
    "    combined_data = []\n",
    "    for sheet_name, sheet_data in sheets.items():\n",
    "        # Convert each row of the sheet into a single string and add it to the list\n",
    "        combined_data.extend(sheet_data.astype(str).apply(lambda x: ' '.join(x.dropna()), axis=1).tolist())\n",
    "    \n",
    "    # Create a DataFrame with a single column\n",
    "    combined_df = pd.DataFrame(combined_data, columns=['CombinedData'])\n",
    "    combined_data = \" \".join(combined_df[\"CombinedData\"].astype(str))\n",
    "\n",
    "    replacements = {\"\\n\": \" \", \"( new tab)\": \" \", \"(new tab\":\" \", \"Copy link\":\" \", \"[Link]\":\" \" }\n",
    "    combined_docs = reduce(lambda combined_data, kv: combined_data.replace(*kv), replacements.items(), combined_data)\n",
    "\n",
    "    # Create Document objects for each entry in the row\n",
    "    all_documents = [Document(page_content = str(combined_docs))]\n",
    "\n",
    "    # creating chunks using recursive character splitter\n",
    "    splitter = RecursiveCharacterTextSplitter(chunk_size = 1024,\n",
    "                          chunk_overlap = 20)\n",
    "    chunks = splitter.split_documents(all_documents)\n",
    "\n",
    "\n",
    "    return chunks\n"
   ]
  },
  {
   "cell_type": "code",
   "execution_count": null,
   "id": "b58107c7-660a-4a8c-af94-7b219b0cc106",
   "metadata": {},
   "outputs": [],
   "source": []
  },
  {
   "cell_type": "code",
   "execution_count": 7,
   "id": "ae04e232-e311-4bdc-8143-2733ed20be29",
   "metadata": {},
   "outputs": [],
   "source": [
    "#creating vector store (embeddings) and keyword retriever and ensemble retriever using these two for hybrid search of the documents\n",
    "\n",
    "def hybrid_retriever(chunks):\n",
    "    # embeddings, creating vector store\n",
    "    # embeddings = HuggingFaceInstructEmbeddings(model_name = \"hkunlp/instructor-xl\")\n",
    "    #vectorstore = FAISS.from_texts(texts=chunks, embedding=embeddings)\n",
    "    vectorstore = DocArrayInMemorySearch.from_documents(documents= chunks, \n",
    "                                    embedding= OpenAIEmbeddings())\n",
    "    #add no of retrived docs for context based on similarity search\n",
    "    vec_retriever = vectorstore.as_retriever(search_kwargs={\"k\": 3})\n",
    "\n",
    "    #using bm25(bestmatch25) algo for the keyword search\n",
    "    keyword_retriever = BM25Retriever.from_documents(chunks)\n",
    "    keyword_retriever.k =  2  #choose no of documents for keyword retriever\n",
    "\n",
    "\n",
    "    #building an ensemble hybrid retriever\n",
    "    ensemble_retriever = EnsembleRetriever(retrievers=[vec_retriever,\n",
    "                                                   keyword_retriever], \n",
    "                                                   weights=[0.7, 0.3])\n",
    "\n",
    "    return ensemble_retriever\n",
    "\n",
    "    \n"
   ]
  },
  {
   "cell_type": "code",
   "execution_count": null,
   "id": "83dfd70c-bd14-4700-9520-98727289e185",
   "metadata": {},
   "outputs": [],
   "source": []
  },
  {
   "cell_type": "code",
   "execution_count": 8,
   "id": "dcb7192d-137d-400f-802f-8bb896989230",
   "metadata": {},
   "outputs": [],
   "source": [
    "#building llm chain\n",
    "def llm_chain(prompt_template, model, retriever):\n",
    "    prompt = PromptTemplate.from_template(prompt_template)\n",
    "\n",
    "    #llm\n",
    "    #temperature of 0 means the responses will be very straightforward and predictable, almost deterministic\n",
    "    model = ChatOpenAI(openai_api_key = OPENAI_API_KEY ,  model= model, temperature = 0)\n",
    "\n",
    "    #chain\n",
    "    llm_chain = (\n",
    "            {\n",
    "                \"context\": itemgetter(\"question\") | retriever,\n",
    "                \"question\": itemgetter(\"question\"),\n",
    "            }\n",
    "            |prompt\n",
    "            |model\n",
    "            |StrOutputParser()\n",
    "        )\n",
    "\n",
    "    return llm_chain\n",
    "    \n"
   ]
  },
  {
   "cell_type": "code",
   "execution_count": null,
   "id": "1e96502d-f995-44d7-b532-0ab4538580ba",
   "metadata": {},
   "outputs": [],
   "source": []
  },
  {
   "cell_type": "code",
   "execution_count": 9,
   "id": "9fca70a1-2cea-4f6b-9652-e0fe041bc4d2",
   "metadata": {},
   "outputs": [],
   "source": [
    "#putting it all together and creating rag chain\n",
    "def final_pipeline(file_path, prompt_template, model):\n",
    "    text_chunks =  combine_excel_sheets(file_path)\n",
    "    ensmb_retriever =  hybrid_retriever(text_chunks)\n",
    "    rag_chain = llm_chain(prompt_template, model, ensmb_retriever)\n",
    "\n",
    "    return rag_chain, ensmb_retriever\n"
   ]
  },
  {
   "cell_type": "code",
   "execution_count": null,
   "id": "0232c756-3e55-4711-b572-4af2ed545057",
   "metadata": {},
   "outputs": [],
   "source": []
  },
  {
   "cell_type": "code",
   "execution_count": 10,
   "id": "19de175b-356f-4b3d-a9dc-0a9067aa11f5",
   "metadata": {},
   "outputs": [],
   "source": [
    "template = \"\"\"\n",
    "You are a customer service chatbot for N26, a leading digital bank. You have access to N26 comprehensive customer service documents and FAQs.\n",
    "Based on the user's question, retrieve relevant information from the documents and provide a clear, accurate, and helpful response.\n",
    "Keep your answers concise and avoid jargon, but provide all the details requested for the customer to understand and resolve their issue.\n",
    "\n",
    "If you can't find an exact match in the documents, don't offer general advice or suggest anything else.\n",
    "Just report the facts found in the provided data, or ask one follow-up question if you need more information.\n",
    "While answering keep your answer relevant to the question and concise.\n",
    "Here the context and users question:\n",
    "\n",
    "### related possible answers:\n",
    "    Context: {context}\n",
    "    \n",
    "### User Question:\n",
    "    Question: {question}\n",
    "\n",
    "Provide the best possible answer based on the available information.\n",
    "\"\"\"\n",
    "\n",
    "#model name\n",
    "model = 'gpt-4o'\n",
    "\n",
    "#file path of the data\n",
    "f_path = \"n26_data/n26.xlsx\"\n"
   ]
  },
  {
   "cell_type": "code",
   "execution_count": 12,
   "id": "886b4297-294a-40ff-904b-b6a11dfb8faf",
   "metadata": {
    "scrolled": true
   },
   "outputs": [],
   "source": [
    "rag_chain, ensemble_retriever = final_pipeline(f_path, template, model )"
   ]
  },
  {
   "cell_type": "code",
   "execution_count": 13,
   "id": "44c6279f-3aa1-4b22-abf1-7d15af600330",
   "metadata": {},
   "outputs": [
    {
     "data": {
      "text/plain": [
       "EnsembleRetriever(retrievers=[VectorStoreRetriever(tags=['DocArrayInMemorySearch'], vectorstore=<langchain_community.vectorstores.docarray.in_memory.DocArrayInMemorySearch object at 0x122f68610>, search_kwargs={'k': 3}), BM25Retriever(vectorizer=<rank_bm25.BM25Okapi object at 0x12d6ea450>, k=2)], weights=[0.7, 0.3])"
      ]
     },
     "execution_count": 13,
     "metadata": {},
     "output_type": "execute_result"
    }
   ],
   "source": [
    "#double checking the retriever\n",
    "ensemble_retriever"
   ]
  },
  {
   "cell_type": "code",
   "execution_count": null,
   "id": "9a7bbfbf-af97-4790-aefe-91d6c21f9ec7",
   "metadata": {},
   "outputs": [],
   "source": []
  },
  {
   "cell_type": "code",
   "execution_count": 15,
   "id": "ebddfd5e-e75b-49ab-b1bc-9a6f59db2f2b",
   "metadata": {},
   "outputs": [],
   "source": [
    "query = \"how to open an account at n26? \""
   ]
  },
  {
   "cell_type": "code",
   "execution_count": 16,
   "id": "93f01162-17d5-4202-90b2-63a2cd4db46a",
   "metadata": {},
   "outputs": [
    {
     "data": {
      "text/plain": [
       "\"To open an N26 account, you can follow these steps:\\n\\n1. **Eligibility**: Ensure you meet the following criteria:\\n   - You are at least 18 years old.\\n   - You are a resident of a supported country.\\n   - You own a compatible smartphone.\\n   - You hold a supported ID.\\n   - You don't already have an account with N26.\\n   - You are able to verify your identity.\\n\\n2. **Account Setup**:\\n   - Download the N26 app on your smartphone or use N26 for Web.\\n   - Select between a personal or business account.\\n   - Link your smartphone to your new account.\\n   - Complete the identity verification process to secure your account.\\n\\n3. **Funding Your Account**:\\n   - New signups can top up their account via Bank Transfer or CASH26 deposit (available in Germany, Austria, and Spain).\\n\\nOnce these steps are completed, you can start using your new N26 account right away.\""
      ]
     },
     "execution_count": 16,
     "metadata": {},
     "output_type": "execute_result"
    }
   ],
   "source": [
    "rag_chain.invoke({\"question\": query})"
   ]
  },
  {
   "cell_type": "code",
   "execution_count": 17,
   "id": "59cc30af-dfc7-4b18-8f27-cb01b747342b",
   "metadata": {},
   "outputs": [],
   "source": [
    "q = \"Why do I need to send additional documents?\""
   ]
  },
  {
   "cell_type": "code",
   "execution_count": 18,
   "id": "b9361ca8-1443-4be2-b672-fb064f43c077",
   "metadata": {},
   "outputs": [
    {
     "data": {
      "text/plain": [
       "'In rare cases, for regulatory reasons, N26 may require additional documentation to keep the information about you up to date. This request is sent directly to the secure email within your N26 App. You will be invited to check a list of documents that you need to provide, depending on your situation, and to reply to this message with the supporting documents within a set timeframe. Providing these documents is mandatory.'"
      ]
     },
     "execution_count": 18,
     "metadata": {},
     "output_type": "execute_result"
    }
   ],
   "source": [
    "rag_chain.invoke({\"question\": q})"
   ]
  },
  {
   "cell_type": "code",
   "execution_count": null,
   "id": "20b5c718-5001-4eec-b13f-c838e46f5261",
   "metadata": {},
   "outputs": [],
   "source": []
  },
  {
   "cell_type": "code",
   "execution_count": null,
   "id": "81edacfe-7c6b-4c53-ad51-44625991d3e6",
   "metadata": {},
   "outputs": [],
   "source": []
  },
  {
   "cell_type": "markdown",
   "id": "c15cf4ba-e2a3-411f-9d68-4a98336195b6",
   "metadata": {},
   "source": [
    "### Evaluation"
   ]
  },
  {
   "cell_type": "code",
   "execution_count": 14,
   "id": "a5a3e0d3-030c-4919-a7e0-49141a9cd0a3",
   "metadata": {
    "scrolled": true
   },
   "outputs": [],
   "source": [
    "#reading test file to evaluate\n",
    "test = pd.read_csv(\"n26_data/test_n26/security_test.csv\")"
   ]
  },
  {
   "cell_type": "code",
   "execution_count": 15,
   "id": "d95b94d7-9def-4fd8-bebb-c420b66b7aeb",
   "metadata": {},
   "outputs": [],
   "source": [
    "pd.set_option('display.max_colwidth', None)"
   ]
  },
  {
   "cell_type": "code",
   "execution_count": null,
   "id": "8d1689b7-34b7-4524-b504-03a30c147a42",
   "metadata": {},
   "outputs": [],
   "source": [
    "#this test data set includes questions as user queries and answers as ground truth"
   ]
  },
  {
   "cell_type": "code",
   "execution_count": 21,
   "id": "9464a03b-8a54-4c03-b6a5-f95e7cb24821",
   "metadata": {},
   "outputs": [
    {
     "data": {
      "text/html": [
       "<div>\n",
       "<style scoped>\n",
       "    .dataframe tbody tr th:only-of-type {\n",
       "        vertical-align: middle;\n",
       "    }\n",
       "\n",
       "    .dataframe tbody tr th {\n",
       "        vertical-align: top;\n",
       "    }\n",
       "\n",
       "    .dataframe thead th {\n",
       "        text-align: right;\n",
       "    }\n",
       "</style>\n",
       "<table border=\"1\" class=\"dataframe\">\n",
       "  <thead>\n",
       "    <tr style=\"text-align: right;\">\n",
       "      <th></th>\n",
       "      <th>Question</th>\n",
       "      <th>Answer</th>\n",
       "    </tr>\n",
       "  </thead>\n",
       "  <tbody>\n",
       "    <tr>\n",
       "      <th>0</th>\n",
       "      <td>How can I recognise a fraudulent text message?</td>\n",
       "      <td>- N26 will never send you a text message asking you to call them to resolve an account issue.\\n- N26 will not call you unless a call has been arranged beforehand through the in-app messaging feature.\\n- All official communication from N26 will be visible in the app.\\n- If you're unsure, stop communicating with the sender and contact N26 support through the app.</td>\n",
       "    </tr>\n",
       "    <tr>\n",
       "      <th>1</th>\n",
       "      <td>Where can I download the N26 app?</td>\n",
       "      <td>- The only legitimate sources for the N26 app are the Google Play Store and the Apple App Store.</td>\n",
       "    </tr>\n",
       "    <tr>\n",
       "      <th>2</th>\n",
       "      <td>Does N26 have any other security applications?</td>\n",
       "      <td>- No, N26 does not have any other security applications. You don't need to download any additional apps to secure, certify, or use your N26 account.</td>\n",
       "    </tr>\n",
       "    <tr>\n",
       "      <th>3</th>\n",
       "      <td>Will N26 ever ask me to change my device's security settings?</td>\n",
       "      <td>- No, N26 will never ask you to change your device's settings related to security, accessibility, or developer settings. If you receive any instructions to change these settings, it should raise a red flag.</td>\n",
       "    </tr>\n",
       "    <tr>\n",
       "      <th>4</th>\n",
       "      <td>What should I do if I suspect malware or a virus on my device?</td>\n",
       "      <td>- Run malware-detecting software and make sure your antivirus is up to date.\\n- Keep your device's operating system updated, as updates often include security patches.\\n- If you think you've been targeted by a scammer, stop all communication with them and contact N26 immediately through official channels.</td>\n",
       "    </tr>\n",
       "    <tr>\n",
       "      <th>5</th>\n",
       "      <td>Where can I find additional resources for protecting my device from malware?</td>\n",
       "      <td>- You can find resources in several languages on the N26 Support website.</td>\n",
       "    </tr>\n",
       "  </tbody>\n",
       "</table>\n",
       "</div>"
      ],
      "text/plain": [
       "                                                                       Question  \\\n",
       "0                                How can I recognise a fraudulent text message?   \n",
       "1                                             Where can I download the N26 app?   \n",
       "2                                Does N26 have any other security applications?   \n",
       "3                 Will N26 ever ask me to change my device's security settings?   \n",
       "4                What should I do if I suspect malware or a virus on my device?   \n",
       "5  Where can I find additional resources for protecting my device from malware?   \n",
       "\n",
       "                                                                                                                                                                                                                                                                                                                                                                        Answer  \n",
       "0  - N26 will never send you a text message asking you to call them to resolve an account issue.\\n- N26 will not call you unless a call has been arranged beforehand through the in-app messaging feature.\\n- All official communication from N26 will be visible in the app.\\n- If you're unsure, stop communicating with the sender and contact N26 support through the app.  \n",
       "1                                                                                                                                                                                                                                                                             - The only legitimate sources for the N26 app are the Google Play Store and the Apple App Store.  \n",
       "2                                                                                                                                                                                                                         - No, N26 does not have any other security applications. You don't need to download any additional apps to secure, certify, or use your N26 account.  \n",
       "3                                                                                                                                                               - No, N26 will never ask you to change your device's settings related to security, accessibility, or developer settings. If you receive any instructions to change these settings, it should raise a red flag.  \n",
       "4                                                           - Run malware-detecting software and make sure your antivirus is up to date.\\n- Keep your device's operating system updated, as updates often include security patches.\\n- If you think you've been targeted by a scammer, stop all communication with them and contact N26 immediately through official channels.  \n",
       "5                                                                                                                                                                                                                                                                                                    - You can find resources in several languages on the N26 Support website.  "
      ]
     },
     "execution_count": 21,
     "metadata": {},
     "output_type": "execute_result"
    }
   ],
   "source": [
    "test"
   ]
  },
  {
   "cell_type": "code",
   "execution_count": 16,
   "id": "9660d7c7-7ca5-4f24-9ac8-1034014bd279",
   "metadata": {},
   "outputs": [
    {
     "name": "stdout",
     "output_type": "stream",
     "text": [
      "<class 'pandas.core.frame.DataFrame'>\n",
      "RangeIndex: 6 entries, 0 to 5\n",
      "Data columns (total 2 columns):\n",
      " #   Column    Non-Null Count  Dtype \n",
      "---  ------    --------------  ----- \n",
      " 0   Question  6 non-null      object\n",
      " 1   Answer    6 non-null      object\n",
      "dtypes: object(2)\n",
      "memory usage: 228.0+ bytes\n"
     ]
    }
   ],
   "source": [
    "test.info()"
   ]
  },
  {
   "cell_type": "code",
   "execution_count": null,
   "id": "1092995c-f448-4162-a13d-40180f08d6aa",
   "metadata": {},
   "outputs": [],
   "source": []
  },
  {
   "cell_type": "code",
   "execution_count": 17,
   "id": "fb770f9f-97eb-4c3b-b644-d1e8aede90a5",
   "metadata": {},
   "outputs": [],
   "source": [
    "import nest_asyncio\n",
    "nest_asyncio.apply()"
   ]
  },
  {
   "cell_type": "code",
   "execution_count": 18,
   "id": "5f9ff120-32fe-4a2d-aeec-bb44de521ec9",
   "metadata": {},
   "outputs": [],
   "source": [
    "\"\"\"\n",
    "This evaluation function will take test df, rag chain and retriever and \n",
    "using ragas lib evaluate the answers generated by rag chain based on questions\n",
    "and returns the df including all the metrics results and contexts etc\n",
    "\"\"\"\n",
    "def evaluate_rag_with_dataframe(df, rag_chain, retriever):\n",
    "\n",
    "    answers  = []\n",
    "    contexts = []\n",
    "\n",
    "    questions = df['Question'].to_list()\n",
    "    ground_truth = df['Answer'].to_list()\n",
    "\n",
    "    \n",
    "    for question in questions:\n",
    "        result = rag_chain.invoke({\"question\":question})\n",
    "        answers.append(result)\n",
    "        contexts.append([docs.page_content for docs in retriever.get_relevant_documents(question)])\n",
    "\n",
    "    # Preparing the dataset\n",
    "    data = {\n",
    "        \"question\": questions,\n",
    "        \"answer\": answers,\n",
    "        \"contexts\": contexts,\n",
    "        \"ground_truth\": ground_truth,\n",
    "       \n",
    "    }\n",
    "\n",
    "    # Convert dict to dataset\n",
    "    data_ = Dataset.from_dict(data)\n",
    "\n",
    "    \n",
    "    evaluation =  evaluate(\n",
    "    dataset=data_, \n",
    "    metrics=[\n",
    "        context_precision,\n",
    "        context_recall,\n",
    "        faithfulness,\n",
    "        answer_relevancy,       \n",
    "    ],\n",
    "    )\n",
    "\n",
    "    df = evaluation.to_pandas()\n",
    "    return df\n"
   ]
  },
  {
   "cell_type": "code",
   "execution_count": null,
   "id": "c0ecddc0-f073-4c15-88f2-8577d231fa13",
   "metadata": {},
   "outputs": [],
   "source": []
  },
  {
   "cell_type": "code",
   "execution_count": 20,
   "id": "d36a55de-bbc3-4884-be2c-1cd91a3040ec",
   "metadata": {},
   "outputs": [
    {
     "data": {
      "application/vnd.jupyter.widget-view+json": {
       "model_id": "d97e312b1b4c438599dcb5d50f881bb8",
       "version_major": 2,
       "version_minor": 0
      },
      "text/plain": [
       "Evaluating:   0%|          | 0/24 [00:00<?, ?it/s]"
      ]
     },
     "metadata": {},
     "output_type": "display_data"
    }
   ],
   "source": [
    "test_result = evaluate_rag_with_dataframe(test, rag_chain, ensemble_retriever)"
   ]
  },
  {
   "cell_type": "code",
   "execution_count": null,
   "id": "03900dc7-3e28-46de-b744-f21581dbf92b",
   "metadata": {},
   "outputs": [],
   "source": []
  },
  {
   "cell_type": "markdown",
   "id": "b89744bc-f2ce-48b9-8192-49824ab3da60",
   "metadata": {},
   "source": [
    "While evaluating the rag chain, performance was evaluated with different number of chunks ie, 256, 512, 1024 and 2k+ but given our dataset, 1024 chunk size is perfect based on evaluation resulst."
   ]
  },
  {
   "cell_type": "code",
   "execution_count": 21,
   "id": "dbdec3cd-7c3a-4604-b912-09dfc6684504",
   "metadata": {},
   "outputs": [
    {
     "data": {
      "text/html": [
       "<div>\n",
       "<style scoped>\n",
       "    .dataframe tbody tr th:only-of-type {\n",
       "        vertical-align: middle;\n",
       "    }\n",
       "\n",
       "    .dataframe tbody tr th {\n",
       "        vertical-align: top;\n",
       "    }\n",
       "\n",
       "    .dataframe thead th {\n",
       "        text-align: right;\n",
       "    }\n",
       "</style>\n",
       "<table border=\"1\" class=\"dataframe\">\n",
       "  <thead>\n",
       "    <tr style=\"text-align: right;\">\n",
       "      <th></th>\n",
       "      <th>context_precision</th>\n",
       "      <th>context_recall</th>\n",
       "      <th>faithfulness</th>\n",
       "      <th>answer_relevancy</th>\n",
       "    </tr>\n",
       "  </thead>\n",
       "  <tbody>\n",
       "    <tr>\n",
       "      <th>0</th>\n",
       "      <td>1.0</td>\n",
       "      <td>1.0</td>\n",
       "      <td>1.0</td>\n",
       "      <td>0.896973</td>\n",
       "    </tr>\n",
       "    <tr>\n",
       "      <th>1</th>\n",
       "      <td>1.0</td>\n",
       "      <td>1.0</td>\n",
       "      <td>1.0</td>\n",
       "      <td>1.000000</td>\n",
       "    </tr>\n",
       "    <tr>\n",
       "      <th>2</th>\n",
       "      <td>1.0</td>\n",
       "      <td>1.0</td>\n",
       "      <td>1.0</td>\n",
       "      <td>0.972329</td>\n",
       "    </tr>\n",
       "    <tr>\n",
       "      <th>3</th>\n",
       "      <td>1.0</td>\n",
       "      <td>1.0</td>\n",
       "      <td>1.0</td>\n",
       "      <td>1.000000</td>\n",
       "    </tr>\n",
       "    <tr>\n",
       "      <th>4</th>\n",
       "      <td>1.0</td>\n",
       "      <td>1.0</td>\n",
       "      <td>1.0</td>\n",
       "      <td>1.000000</td>\n",
       "    </tr>\n",
       "    <tr>\n",
       "      <th>5</th>\n",
       "      <td>1.0</td>\n",
       "      <td>1.0</td>\n",
       "      <td>1.0</td>\n",
       "      <td>0.988469</td>\n",
       "    </tr>\n",
       "  </tbody>\n",
       "</table>\n",
       "</div>"
      ],
      "text/plain": [
       "   context_precision  context_recall  faithfulness  answer_relevancy\n",
       "0                1.0             1.0           1.0          0.896973\n",
       "1                1.0             1.0           1.0          1.000000\n",
       "2                1.0             1.0           1.0          0.972329\n",
       "3                1.0             1.0           1.0          1.000000\n",
       "4                1.0             1.0           1.0          1.000000\n",
       "5                1.0             1.0           1.0          0.988469"
      ]
     },
     "execution_count": 21,
     "metadata": {},
     "output_type": "execute_result"
    }
   ],
   "source": [
    "test_result[[\"context_precision\",\t\"context_recall\",\t\"faithfulness\",\t\"answer_relevancy\"]]\n"
   ]
  },
  {
   "cell_type": "code",
   "execution_count": null,
   "id": "a06b68df-46e4-48ff-8069-6b0f81c88444",
   "metadata": {},
   "outputs": [],
   "source": []
  },
  {
   "cell_type": "markdown",
   "id": "28ba4bcb-0646-4988-8f97-8998bd635729",
   "metadata": {},
   "source": [
    "we can see here that results are good, ie retrieval and generation have both produced good results and while checking the answers in ground truth as reference and generated answer as response, we can say that this chatbot is working good based on provided documents."
   ]
  },
  {
   "cell_type": "code",
   "execution_count": 22,
   "id": "f29a3355-e96e-4ae1-9f53-7389cbb83f5c",
   "metadata": {
    "scrolled": true
   },
   "outputs": [
    {
     "data": {
      "text/html": [
       "<div>\n",
       "<style scoped>\n",
       "    .dataframe tbody tr th:only-of-type {\n",
       "        vertical-align: middle;\n",
       "    }\n",
       "\n",
       "    .dataframe tbody tr th {\n",
       "        vertical-align: top;\n",
       "    }\n",
       "\n",
       "    .dataframe thead th {\n",
       "        text-align: right;\n",
       "    }\n",
       "</style>\n",
       "<table border=\"1\" class=\"dataframe\">\n",
       "  <thead>\n",
       "    <tr style=\"text-align: right;\">\n",
       "      <th></th>\n",
       "      <th>user_input</th>\n",
       "      <th>response</th>\n",
       "      <th>reference</th>\n",
       "      <th>retrieved_contexts</th>\n",
       "    </tr>\n",
       "  </thead>\n",
       "  <tbody>\n",
       "    <tr>\n",
       "      <th>0</th>\n",
       "      <td>How can I recognise a fraudulent text message?</td>\n",
       "      <td>To recognize a fraudulent text message, be aware of the following signs:\\n\\n1. **Unexpected Contact**: N26 never initiates contact via SMS. If you receive an SMS claiming to be from N26, it is likely fraudulent.\\n\\n2. **Links and Requests**: Avoid opening any links or providing any data if the message asks you to do so.\\n\\n3. **Urgency and Threats**: Fraudulent messages often use time-sensitive scenarios or ultimatums to pressure you into acting quickly.\\n\\n4. **Spelling and Grammar**: Pay attention to incorrect spelling and grammar, which can be a sign of a scam.\\n\\n5. **Sender Details**: Check the sender's details carefully. Scammers may use phone spoofing to disguise their number as that of the bank.\\n\\nIf you receive a suspicious message, take a screenshot including the sender's phone number and the date/time, and send it to support@n26.com. Do not interact with the message further.</td>\n",
       "      <td>- N26 will never send you a text message asking you to call them to resolve an account issue.\\n- N26 will not call you unless a call has been arranged beforehand through the in-app messaging feature.\\n- All official communication from N26 will be visible in the app.\\n- If you're unsure, stop communicating with the sender and contact N26 support through the app.</td>\n",
       "      <td>[security measure.  Have you received a message about a Huawei device linked to your account?   If the message looks like this, it is most likely to be a fraudulent approach: \"You have linked a HUAWEI device, you can sign operations from your mobile! If this wasn't you, verify immediately  .\"  The intention behind this message is to trick you into clicking the link to report that it wasn't you, setting up a phone call to supposedly verify your identity and move your funds to a \"secure\" account. Afterwards, they will notify you that the device was indeed unlinked.  This is a scam designed to obtain your personal information and bank credentials, allowing them to have access to your N26 account. If this happens, please remember not to interact with these fraudsters by following the information below.  What should I do If I have received a suspicious SMS message?   If you receive an SMS or call claiming to be from N26:  Remember: N26 never initiates contact via SMS. If it's an SMS: avoid opening any links and, lured into a false sense of security with brand imagery, time-sensitive scenarios, and misleading language. Once hooked, fraudsters will attempt to manipulate their targets into complying with their demands.  How can you protect yourself?   Pay close attention to emails you receive from banks, clients, employers, and so on. If you’re asked to do something, never act on impulse; always think carefully before taking action.   If you have a feeling that something is off, don’t ignore it. Take notice of incorrect spelling and grammar, hover over (don’t click) hidden URLs, check sender details, and do some research - a quick online check can help you to verify a sender’s identity.  If you’ve received a suspicious email, phone call and/or SMS, in the name of N26, forward your concerns to our Customer Support team at support@n26.com. If you’d like to discuss account-related issues, chat to us via our mobile app.  Learn more about:  How to report suspected phishing attacks )  How to recognize and avoid phishing, message, do not click on any links or provide any data.  To help us in our investigation, we ask that you do the following:   Take a screenshot of the message you received and send it to: support@n26.com. Ensure that the full message, including the sender's phone number and the date/time, are all visible. After our confirmation that you have received a phishing text, block the phone number. Delete the message from your mobile phone.  Suspicious Phone Calls   If you receive a suspicious call, whether or not it comes from one of our phone numbers, do not provide any personal data, or relating to your account or the card associated with it. Please note that in some cases, with the “phone spoofing” technique, scammers are able to disguise the sender's phone number, making it appear the same as that of the bank.  For this reason, if you suspect that you have been the victim of a phone scam or have provided your personal data, please contact our customer support immediately at support@n26.com.  How to Report a, the lock by the URL and examine the credentials with a simple click Enable location tracking on your N26 app, so we can spot irregular transactions that may not have been made by you If you believe your account is compromised in any way, change your password immediately and refer to our article on What to do if my account may be compromised?   What is Phishing? Phishing is a simple and effective tool hackers use to deceive people into handing over sensitive personal information. Once they have obtained this information, they can use it to perpetrate various types of fraud while impersonating their victims. If you’d like to learn more, please click here ) to read our blog post about how to recognise and avoid phishing attacks.  How to report suspicious emails and text messages   N26 will never send text messages or emails containing time-critical warnings instructing you to log in to your account and share privileged user data. We’ll never issue you with an ultimatum, nor will we ask you to authenticate]</td>\n",
       "    </tr>\n",
       "    <tr>\n",
       "      <th>1</th>\n",
       "      <td>Where can I download the N26 app?</td>\n",
       "      <td>You can download the N26 app from the Apple App Store or the Google Play Store.</td>\n",
       "      <td>- The only legitimate sources for the N26 app are the Google Play Store and the Apple App Store.</td>\n",
       "      <td>[share with other N26 users selected from your contact list. Can I download the N26 app on my smartphone? Any app version can be used for 180 days since its release. Within this period, newer versions will be available. Please always upgrade to the newest version for a seamless customer experience. You can check and download the latest version of the N26 app from the Apple App Store ) or the Google Play Store ).  Please be aware, there are minimum requirements for all phones to ensure proper usage. These requirements are listed below:  iOS:   Model iPhone 6s iOS 15 or above (You can find your iOS version under Settings &gt; General &gt; Informations). Android:   Android 8 or above.(You can find your Android version under Settings &gt; About your device). Native support of Google Services  How to contact N26? There are several ways you can reach out to our customer support team, but the best option is always opening a secure chat while you’re logged into the App. This will allow us to verify your identity, and provide, an issue with your account. N26 will never text you to request that you contact us via phone and never place outbound calls to customers unless these are arranged via the in-app Messages from N26 beforehand. Any N26 communication will be visible via the application. When in doubt, disengage and contact N26 Support via the in-app channels. 2) Fraudsters try to push you to download a new application outside the Apple or Google store. The only location to obtain the N26 app is via the Google Play store and the Apple App store. N26 does not have additional security applications. You do not need to download any additional applications to secure, certify, or use your N26 account. 3) Fraudsters try to push you to change your device's settings related to Security, Accessibility, or Developer Settings, to take control of your device. N26 will never require changes to these settings. Any instructions to change these settings should be cause for alarm. What should I do if I suspect malware or a virus on my device?   If, place—from your N26 app. No need to download a new app or make a new account to start trading crypto, just scroll down from your bank account to check it out.  Try N26 Crypto in your N26 app by following these steps:  Tap the Finances tab and scroll to Trading Select Get started with crypto and browse the coins If you’re ready, hit Buy and sign up in just a minute Tada — enjoy being a digital currency owner!  Crypto may seem like a tough nut to crack—but, as always, we’ve got your back.  Why don’t I see N26 Crypto in my app?   We are in the process of rolling out N26 Crypto to eligible N26 customers in Belgium, Ireland, and Portugal. This rollout will be conducted in phases, so if you don’t see N26 Crypto in your app now, check back in several weeks. To access N26 Crypto, always make sure your N26 app is fully up to date. Please note that N26 Crypto will initially be available only to eligible customers to whom the terms and conditions of an N26 bank account in Belgium, Ireland, and Portugal apply. Customers, Luxembourg, Estonia, Latvia, and Lithuania A legal address in one of the following countries: Austria, Netherlands, Ireland, Portugal, Slovenia, Greece, Belgium, Finland, Slovakia, Luxembourg, Estonia, Latvia, and Lithuania Please note: To benefit from this offer, you’ll need to open an N26 account. After that, you may open a separate N26 Instant Savings account to earn interest alongside everyday banking. Please note that you’ll only be able to open an N26 Instant Savings account if you meet the eligibility requirements. Interest is earned only on funds held in your Instant Savings account.  Why can't I find N26 Instant Savings in my app?  If you can’t find the option to sign up for N26 Instant Savings in the finances section of the app, you’re currently not eligible. Bear in mind that it can take up to 5 working days for us to verify your tax ID. You can check our eligibility criteria in the dedicated article.  Can I sign-up for N26 Instant Savings if I'm tax-liable in the U.S.?  Yes, this product is now, includes your first and last name, date of birth, the IBAN of your account, and the date you opened it.  Your certificate may also include your current account balance and the card numbers of your active cards, if you choose. For security reasons, these will be partially hidden with asterisks.  How do I request a bank account ownership certificate?   To request the bank account ownership certificate including your account balance and card number, click on the download ) icon*. Then, under Account Confirmation, select whether you want to include your current balance and/or the card numbers of your active cards and click Request. The PDF will appear in the Messages from N26 section.   How can I download the confirmation for a SEPA transfer? If you have sent a bank transfer from your N26 account and need confirmation of the sending or receipt, you can download the PDF file with the transaction data from your mobile app or WebApp. That's how:  Log into your N26 app From the list of transactions, select the bank]</td>\n",
       "    </tr>\n",
       "    <tr>\n",
       "      <th>2</th>\n",
       "      <td>Does N26 have any other security applications?</td>\n",
       "      <td>N26 does not have any additional security applications. The only location to obtain the N26 app is via the Google Play Store and the Apple App Store. You do not need to download any additional applications to secure, certify, or use your N26 account.</td>\n",
       "      <td>- No, N26 does not have any other security applications. You don't need to download any additional apps to secure, certify, or use your N26 account.</td>\n",
       "      <td>[an issue with your account. N26 will never text you to request that you contact us via phone and never place outbound calls to customers unless these are arranged via the in-app Messages from N26 beforehand. Any N26 communication will be visible via the application. When in doubt, disengage and contact N26 Support via the in-app channels. 2) Fraudsters try to push you to download a new application outside the Apple or Google store. The only location to obtain the N26 app is via the Google Play store and the Apple App store. N26 does not have additional security applications. You do not need to download any additional applications to secure, certify, or use your N26 account. 3) Fraudsters try to push you to change your device's settings related to Security, Accessibility, or Developer Settings, to take control of your device. N26 will never require changes to these settings. Any instructions to change these settings should be cause for alarm. What should I do if I suspect malware or a virus on my device?   If, the Security, Accessibility, or Developer Settings of your device.  The official version of the N26 app is available exclusively via the Apple and Google stores. We would never ask you to download anything else to secure your account.  Step 3: Transfer of your funds to a fake “secure account”   If they fail to make you download the malware, they will try to make you transfer your money to a so-called “secure” or “temporary” account, as an alternative security measure. We will never ask you to transfer money to another account. Just like asking you to download another app, both are obvious signs of fraud ).  Warning: Downloading unlicensed applications can severely compromise your account, as it allows fraudsters to take full control of your phone and N26 account.  For a more detailed article about malware fraud prevention, see this article. Why is N26 secure? To protect your account, we use a three-layered security architecture:  Secure login. Your login details of both the mobile and WebApp ) consist of a, compromised, you should lock your card immediately in your N26 app, and reorder a new one to keep your money safe.   What if I’ve lost my paired device? Could someone access my account?   If your paired device is lost or stolen, rest assured that your N26 app can only be accessed when the right password is entered, or with fingerprint or facial recognition. Our customer service team will be able to assist you in pairing a new device to your N26 account when you have one.   Where can I learn more about security at N26?   To learn more about how we protect your account in case of fraud, visit our blog article ). Visit our page about Security at N26 ) to discover our commitment to protect your funds and your account.  Chat is available everyday from 07:00-23:00 including Sundays and bank holidays.  If you do not have access to your N26 mobile app or your N26 webapp login, you can also request to block your card or account by calling us at +44 2035 107126 or +49 303 6428 6881 (both lines in English).   Can N26, AI to run advanced statistical models and algorithms, alongside human behavior analysis.   Where does N26 invest my money? We strive to provide our clients' deposits for loans to our customers (provided that they have the appropriate credit rating). For the liquidity not required in the customer business, our investment strategy is low in risk.  We invest our customers' money at short notice with the Deutsche Bundesbank and other European banks in the eurozone with only good risk classes. And we refinance public-law customers mainly in Germany (cities and municipalities) and invest in euro government bonds.  We're not a trading book institute. That is: we do not trade for short-term profit.  And we don't engage in speculation, whether on food, foreign exchange, bitcoins or other asset classes.   Why does N26 do checks on transactions? We have the responsibility to run routine checks on accounts and transactions in order to ensure your account’s security (see GwG § 10 )). These checks are automatically, Support Center articles linked above. How to change my confirmation PIN? Step by Step Instructions:   Android iPhone      The confirmation PIN is the code you use to confirm transfers or any other transactions you make from your N26 app. If you aren’t sure what it is, remember that you created your own confirmation PIN when you paired your smartphone ) with your account for the first time.  If you’ve forgotten your PIN code or want to change it, you can do so at any time. Simply follow these steps:  Open your N26 app, go to My Account, then Settings, and then tap Security or click Choose Change confirmation PIN Enter your card token, the 10-digit number that appears below your name on the front of your card (for N26 Smart, You, and Metal cards, the number appears on the back) Create and confirm your new confirmation PIN If you enter your Confirmation PIN incorrectly 6 times in a row, you'll have to reset it before trying again.  For security reasons we don’t accept any PIN containing elements of your birth]</td>\n",
       "    </tr>\n",
       "    <tr>\n",
       "      <th>3</th>\n",
       "      <td>Will N26 ever ask me to change my device's security settings?</td>\n",
       "      <td>No, N26 will never ask you to change your device's security settings, such as Security, Accessibility, or Developer Settings. Any instructions to change these settings should be considered a warning sign of potential fraud.</td>\n",
       "      <td>- No, N26 will never ask you to change your device's settings related to security, accessibility, or developer settings. If you receive any instructions to change these settings, it should raise a red flag.</td>\n",
       "      <td>[an issue with your account. N26 will never text you to request that you contact us via phone and never place outbound calls to customers unless these are arranged via the in-app Messages from N26 beforehand. Any N26 communication will be visible via the application. When in doubt, disengage and contact N26 Support via the in-app channels. 2) Fraudsters try to push you to download a new application outside the Apple or Google store. The only location to obtain the N26 app is via the Google Play store and the Apple App store. N26 does not have additional security applications. You do not need to download any additional applications to secure, certify, or use your N26 account. 3) Fraudsters try to push you to change your device's settings related to Security, Accessibility, or Developer Settings, to take control of your device. N26 will never require changes to these settings. Any instructions to change these settings should be cause for alarm. What should I do if I suspect malware or a virus on my device?   If, the Security, Accessibility, or Developer Settings of your device.  The official version of the N26 app is available exclusively via the Apple and Google stores. We would never ask you to download anything else to secure your account.  Step 3: Transfer of your funds to a fake “secure account”   If they fail to make you download the malware, they will try to make you transfer your money to a so-called “secure” or “temporary” account, as an alternative security measure. We will never ask you to transfer money to another account. Just like asking you to download another app, both are obvious signs of fraud ).  Warning: Downloading unlicensed applications can severely compromise your account, as it allows fraudsters to take full control of your phone and N26 account.  For a more detailed article about malware fraud prevention, see this article. Why is N26 secure? To protect your account, we use a three-layered security architecture:  Secure login. Your login details of both the mobile and WebApp ) consist of a, Click on “Unpair Phone” and follow the steps. Enter your Confirmation PIN when prompted. Your phone and your N26 account are no longer paired. How to keep my banking data safe online? Whether shopping, banking or managing your inbox, here are some tips to keep you and your data safe in the digital space:  Keep your N26 app and mobile OS updated with the latest bug fixes Use fingerprint scanning or facial recognition to log in Create strong passwords with letters, numbers and symbols - and never use the same one across multiple accounts Never post sensitive personal information online via social media platforms Be careful with public or shared WIFI connections - always choose secure WPA2 connections over WEP connections Choose email providers with security and spam filters and two-factor authentication like Gmail and Yahoo! Watch out for offers that are too good to be true - they probably are Shop only at trusted websites of well-known retailers Check that websites are secure - look for the lock by the URL, ) To access educational material in all languages, see here ). How to protect my account? The security of your account and your personal data is our top priority.  If you ever feel that your N26 login may be compromised or that someone is trying to initiate a chat on your behalf, it’s crucial to immediately change your N26 account password.  To do so, log into the app and go to My Account &gt; Security &gt; Change login Password. Please choose a secure password and don’t reveal your login details to anyone.  As the account holder, you and only you should create and have access to your login details. For further advice on identity protection, we encourage you to visit our article How to protect my identity?  If you believe that your account has been compromised or tampered in any way then please get in touch with us immediately.  If you do not have access to your N26 mobile app or your N26 webapp login, you can also request to block your card or account by calling us at +44 2035 107126 or +49 303 6428 6881 (both]</td>\n",
       "    </tr>\n",
       "    <tr>\n",
       "      <th>4</th>\n",
       "      <td>What should I do if I suspect malware or a virus on my device?</td>\n",
       "      <td>If you suspect malware or a virus on your device, it is critical to take the following steps:\\n\\n1. Run malware-detecting software on your device.\\n2. Regularly update your antivirus software.\\n3. Keep your device's operating system up to date, as many updates resolve security issues.\\n\\nAdditionally, if you suspect you're the victim of a scam attempt, immediately end all communication with the suspected scammer and proactively contact N26 through official channels. For more information on malware and how to protect your device, you can refer to the educational resources provided by N26.</td>\n",
       "      <td>- Run malware-detecting software and make sure your antivirus is up to date.\\n- Keep your device's operating system updated, as updates often include security patches.\\n- If you think you've been targeted by a scammer, stop all communication with them and contact N26 immediately through official channels.</td>\n",
       "      <td>[use an infected machine to access your account, a bad actor could gain access to your N26 login credentials or other personal information and use this against you at a later date. Because of the way many of these malicious programs work, resetting an account password has no effect if the infected machine is used to do this since the new password is recorded for the attacker to use.    What do I do if I suspect malware or a virus on my device?   If you believe there is an infection on a machine you use it is critical that you run malware detecting software and regularly update your antivirus. Keeping your machine's operating system up to date is also critical as many operating systems regularly push updates to resolve security issues.   Please refer to the below resources for more information on malware and how to protect your device:  English ) German ) Italian ) Spanish ) French ) To access educational material in all languages see here ). What to do if my account may be compromised? Fraud hotline - Contact, on my device?   If you believe there's an infection on a device you use, it's critical that you run malware-detecting software and regularly update your antivirus. Keeping your device's operating system up to date is also critical as many operating systems regularly push updates to resolve security issues.   If you suspect you're the victim of a scam attempt, immediately end all communication with the suspected scammer and proactively contact N26 through our official channels.  Please refer to the below resources for more information on malware and how to protect your device:  How to protect my account? ) Do you have malware on your phone? Here's how to check ) Wie kann ich mein Konto schützen? ) Was ist Malware und wie kann ich mich davor schützen? ) Come proteggere il mio conto? ) Malware: cos’è, come funziona e come proteggersi ) ¿Cómo proteger mi cuenta? ) Malware: qué es, qué tipos hay y cómo protegerse ) Comment protéger mon compte? ) Malwares : Comment déjouer et éradiquer la menace ? ) To access, 303 6428 6881 (both lines in English) .  Is my N26 account compromised if I use a device that is infected with a virus or malware?   In today’s world, computers and smartphones dominate most interactions, and computer viruses represent a very common risk. While prevention and detection of these issues is often built into modern day technology, it's important for N26 users to understand the impact using an infected machine can have on the security of their assets and what steps to take to resolve issues if there is suspicion of an infection.   Oftentimes, viruses are perpetrated to unsuspecting users by bad actors as a means to an end with a desire to gain information that can be used to harm and victimise targets in other ways. These can have a variety of benefits to the attacker in that the user of an infected machine is unknowingly providing their every keystroke to an attacker. This means usernames, passwords, bank account balances, file names, email messages, etc.    If you unknowingly use an infected, an issue with your account. N26 will never text you to request that you contact us via phone and never place outbound calls to customers unless these are arranged via the in-app Messages from N26 beforehand. Any N26 communication will be visible via the application. When in doubt, disengage and contact N26 Support via the in-app channels. 2) Fraudsters try to push you to download a new application outside the Apple or Google store. The only location to obtain the N26 app is via the Google Play store and the Apple App store. N26 does not have additional security applications. You do not need to download any additional applications to secure, certify, or use your N26 account. 3) Fraudsters try to push you to change your device's settings related to Security, Accessibility, or Developer Settings, to take control of your device. N26 will never require changes to these settings. Any instructions to change these settings should be cause for alarm. What should I do if I suspect malware or a virus on my device?   If]</td>\n",
       "    </tr>\n",
       "    <tr>\n",
       "      <th>5</th>\n",
       "      <td>Where can I find additional resources for protecting my device from malware?</td>\n",
       "      <td>You can find additional resources for protecting your device from malware by referring to the educational materials provided by N26. These resources are available in multiple languages, including English, German, Italian, Spanish, and French. To access these materials, you can visit the relevant section on the N26 website.</td>\n",
       "      <td>- You can find resources in several languages on the N26 Support website.</td>\n",
       "      <td>[on my device?   If you believe there's an infection on a device you use, it's critical that you run malware-detecting software and regularly update your antivirus. Keeping your device's operating system up to date is also critical as many operating systems regularly push updates to resolve security issues.   If you suspect you're the victim of a scam attempt, immediately end all communication with the suspected scammer and proactively contact N26 through our official channels.  Please refer to the below resources for more information on malware and how to protect your device:  How to protect my account? ) Do you have malware on your phone? Here's how to check ) Wie kann ich mein Konto schützen? ) Was ist Malware und wie kann ich mich davor schützen? ) Come proteggere il mio conto? ) Malware: cos’è, come funziona e come proteggersi ) ¿Cómo proteger mi cuenta? ) Malware: qué es, qué tipos hay y cómo protegerse ) Comment protéger mon compte? ) Malwares : Comment déjouer et éradiquer la menace ? ) To access, use an infected machine to access your account, a bad actor could gain access to your N26 login credentials or other personal information and use this against you at a later date. Because of the way many of these malicious programs work, resetting an account password has no effect if the infected machine is used to do this since the new password is recorded for the attacker to use.    What do I do if I suspect malware or a virus on my device?   If you believe there is an infection on a machine you use it is critical that you run malware detecting software and regularly update your antivirus. Keeping your machine's operating system up to date is also critical as many operating systems regularly push updates to resolve security issues.   Please refer to the below resources for more information on malware and how to protect your device:  English ) German ) Italian ) Spanish ) French ) To access educational material in all languages see here ). What to do if my account may be compromised? Fraud hotline - Contact, excitement is one of the most common social engineering tactics that scammers rely on. They want people to act first and think later. Remember: If an offer — online or offline — seems too good to be true, it probably is.  Use multi-factor-authentication (also known as 2-Factor Authentication or 2FA), which uses your smartphone or another device to confirm your access to your accounts. Always double-check links sent in emails. When in doubt, search online for the website rather than clicking on the link itself. Never download files, share personal information, or click on links from unknown senders.  How to protect yourself when your phone is lost or stolen Losing your phone or experiencing theft can be a highly stressful event, but taking immediate action can help secure your personal information and reduce the risk of financial loss. Here are five critical steps you should follow:  1. Block the SIM Card of Your Lost or Stolen Phone   Immediately contact your mobile service provider to block your SIM card., on how to determine if you are resident in the jurisdiction on the following website:OECD AEOI Portal ).    Where to find your Tax ID Your Tax Identification Number (TIN) is unique to you, and issued by the tax authority upon registration with them in the country where you as an individual are a taxpayer.  Where to find Your TIN can differ depending on which country you are tax eligible. Please be aware that each country's TIN name can be different, e.g. If you’re from the UK you can think of your TIN number like your National Insurance Number (NIN).  Where to find your Tax ID for Austrian residents:   If you’re a resident in Austria, you can request your 9 digit Tax ID (“Steuernummer”) at your local tax authority (“Finanzamt”). You can also request it via Finanzonline. If you’re already subject to taxation or filed a tax return in the past, you can find your Tax ID in the following places:  Via Finanzonline ). (Log in with your credentials or with your ID Austria/mobile phone signature and click on, 303 6428 6881 (both lines in English) .  Is my N26 account compromised if I use a device that is infected with a virus or malware?   In today’s world, computers and smartphones dominate most interactions, and computer viruses represent a very common risk. While prevention and detection of these issues is often built into modern day technology, it's important for N26 users to understand the impact using an infected machine can have on the security of their assets and what steps to take to resolve issues if there is suspicion of an infection.   Oftentimes, viruses are perpetrated to unsuspecting users by bad actors as a means to an end with a desire to gain information that can be used to harm and victimise targets in other ways. These can have a variety of benefits to the attacker in that the user of an infected machine is unknowingly providing their every keystroke to an attacker. This means usernames, passwords, bank account balances, file names, email messages, etc.    If you unknowingly use an infected]</td>\n",
       "    </tr>\n",
       "  </tbody>\n",
       "</table>\n",
       "</div>"
      ],
      "text/plain": [
       "                                                                     user_input  \\\n",
       "0                                How can I recognise a fraudulent text message?   \n",
       "1                                             Where can I download the N26 app?   \n",
       "2                                Does N26 have any other security applications?   \n",
       "3                 Will N26 ever ask me to change my device's security settings?   \n",
       "4                What should I do if I suspect malware or a virus on my device?   \n",
       "5  Where can I find additional resources for protecting my device from malware?   \n",
       "\n",
       "                                                                                                                                                                                                                                                                                                                                                                                                                                                                                                                                                                                                                                                                                                                                                                                                                                                                                                                              response  \\\n",
       "0  To recognize a fraudulent text message, be aware of the following signs:\\n\\n1. **Unexpected Contact**: N26 never initiates contact via SMS. If you receive an SMS claiming to be from N26, it is likely fraudulent.\\n\\n2. **Links and Requests**: Avoid opening any links or providing any data if the message asks you to do so.\\n\\n3. **Urgency and Threats**: Fraudulent messages often use time-sensitive scenarios or ultimatums to pressure you into acting quickly.\\n\\n4. **Spelling and Grammar**: Pay attention to incorrect spelling and grammar, which can be a sign of a scam.\\n\\n5. **Sender Details**: Check the sender's details carefully. Scammers may use phone spoofing to disguise their number as that of the bank.\\n\\nIf you receive a suspicious message, take a screenshot including the sender's phone number and the date/time, and send it to support@n26.com. Do not interact with the message further.   \n",
       "1                                                                                                                                                                                                                                                                                                                                                                                                                                                                                                                                                                                                                                                                                                                                                                                                                                                      You can download the N26 app from the Apple App Store or the Google Play Store.   \n",
       "2                                                                                                                                                                                                                                                                                                                                                                                                                                                                                                                                                                                                                                                                           N26 does not have any additional security applications. The only location to obtain the N26 app is via the Google Play Store and the Apple App Store. You do not need to download any additional applications to secure, certify, or use your N26 account.   \n",
       "3                                                                                                                                                                                                                                                                                                                                                                                                                                                                                                                                                                                                                                                                                                      No, N26 will never ask you to change your device's security settings, such as Security, Accessibility, or Developer Settings. Any instructions to change these settings should be considered a warning sign of potential fraud.   \n",
       "4                                                                                                                                                                                                                                                                                                                   If you suspect malware or a virus on your device, it is critical to take the following steps:\\n\\n1. Run malware-detecting software on your device.\\n2. Regularly update your antivirus software.\\n3. Keep your device's operating system up to date, as many updates resolve security issues.\\n\\nAdditionally, if you suspect you're the victim of a scam attempt, immediately end all communication with the suspected scammer and proactively contact N26 through official channels. For more information on malware and how to protect your device, you can refer to the educational resources provided by N26.   \n",
       "5                                                                                                                                                                                                                                                                                                                                                                                                                                                                                                                                                                                                 You can find additional resources for protecting your device from malware by referring to the educational materials provided by N26. These resources are available in multiple languages, including English, German, Italian, Spanish, and French. To access these materials, you can visit the relevant section on the N26 website.   \n",
       "\n",
       "                                                                                                                                                                                                                                                                                                                                                                     reference  \\\n",
       "0  - N26 will never send you a text message asking you to call them to resolve an account issue.\\n- N26 will not call you unless a call has been arranged beforehand through the in-app messaging feature.\\n- All official communication from N26 will be visible in the app.\\n- If you're unsure, stop communicating with the sender and contact N26 support through the app.   \n",
       "1                                                                                                                                                                                                                                                                             - The only legitimate sources for the N26 app are the Google Play Store and the Apple App Store.   \n",
       "2                                                                                                                                                                                                                         - No, N26 does not have any other security applications. You don't need to download any additional apps to secure, certify, or use your N26 account.   \n",
       "3                                                                                                                                                               - No, N26 will never ask you to change your device's settings related to security, accessibility, or developer settings. If you receive any instructions to change these settings, it should raise a red flag.   \n",
       "4                                                           - Run malware-detecting software and make sure your antivirus is up to date.\\n- Keep your device's operating system updated, as updates often include security patches.\\n- If you think you've been targeted by a scammer, stop all communication with them and contact N26 immediately through official channels.   \n",
       "5                                                                                                                                                                                                                                                                                                    - You can find resources in several languages on the N26 Support website.   \n",
       "\n",
       "                                                                                                                                                                                                                                                                                                                                                                                                                                                                                                                                                                                                                                                                                                                                                                                                                                                                                                                                                                                                                                                                                                                                                                                                                                                                                                                                                                                                                                                                                                                                                                                                                                                                                                                                                                                                                                                                                                                                                                                                                                                                                                                                                                                                                                                                                                                                                                                                                                                                                                                                                                                                                                                                                                                                                                                                                                                                                                                                                                                                                                                                                                                                                                                                                                                                                                                                                                                                                                                                                                                                                                                                                                                                                                                                                                                                                                                                                                                                                                                                                                                                                                                                                                                                                                                                                                                                                                                                                                                                                                                                                                                                                                                                                                                                                                                                                                                                                                                                                                                                                                                                                                                                                                                                                                                                                                                  retrieved_contexts  \n",
       "0                                                                                                                                                                                                                                                                                                                                                                                                                                                                                                                                                                                                                                                                                                                                                                                                                                                                                                                                                                                                                                                                                 [security measure.  Have you received a message about a Huawei device linked to your account?   If the message looks like this, it is most likely to be a fraudulent approach: \"You have linked a HUAWEI device, you can sign operations from your mobile! If this wasn't you, verify immediately  .\"  The intention behind this message is to trick you into clicking the link to report that it wasn't you, setting up a phone call to supposedly verify your identity and move your funds to a \"secure\" account. Afterwards, they will notify you that the device was indeed unlinked.  This is a scam designed to obtain your personal information and bank credentials, allowing them to have access to your N26 account. If this happens, please remember not to interact with these fraudsters by following the information below.  What should I do If I have received a suspicious SMS message?   If you receive an SMS or call claiming to be from N26:  Remember: N26 never initiates contact via SMS. If it's an SMS: avoid opening any links and, lured into a false sense of security with brand imagery, time-sensitive scenarios, and misleading language. Once hooked, fraudsters will attempt to manipulate their targets into complying with their demands.  How can you protect yourself?   Pay close attention to emails you receive from banks, clients, employers, and so on. If you’re asked to do something, never act on impulse; always think carefully before taking action.   If you have a feeling that something is off, don’t ignore it. Take notice of incorrect spelling and grammar, hover over (don’t click) hidden URLs, check sender details, and do some research - a quick online check can help you to verify a sender’s identity.  If you’ve received a suspicious email, phone call and/or SMS, in the name of N26, forward your concerns to our Customer Support team at support@n26.com. If you’d like to discuss account-related issues, chat to us via our mobile app.  Learn more about:  How to report suspected phishing attacks )  How to recognize and avoid phishing, message, do not click on any links or provide any data.  To help us in our investigation, we ask that you do the following:   Take a screenshot of the message you received and send it to: support@n26.com. Ensure that the full message, including the sender's phone number and the date/time, are all visible. After our confirmation that you have received a phishing text, block the phone number. Delete the message from your mobile phone.  Suspicious Phone Calls   If you receive a suspicious call, whether or not it comes from one of our phone numbers, do not provide any personal data, or relating to your account or the card associated with it. Please note that in some cases, with the “phone spoofing” technique, scammers are able to disguise the sender's phone number, making it appear the same as that of the bank.  For this reason, if you suspect that you have been the victim of a phone scam or have provided your personal data, please contact our customer support immediately at support@n26.com.  How to Report a, the lock by the URL and examine the credentials with a simple click Enable location tracking on your N26 app, so we can spot irregular transactions that may not have been made by you If you believe your account is compromised in any way, change your password immediately and refer to our article on What to do if my account may be compromised?   What is Phishing? Phishing is a simple and effective tool hackers use to deceive people into handing over sensitive personal information. Once they have obtained this information, they can use it to perpetrate various types of fraud while impersonating their victims. If you’d like to learn more, please click here ) to read our blog post about how to recognise and avoid phishing attacks.  How to report suspicious emails and text messages   N26 will never send text messages or emails containing time-critical warnings instructing you to log in to your account and share privileged user data. We’ll never issue you with an ultimatum, nor will we ask you to authenticate]  \n",
       "1  [share with other N26 users selected from your contact list. Can I download the N26 app on my smartphone? Any app version can be used for 180 days since its release. Within this period, newer versions will be available. Please always upgrade to the newest version for a seamless customer experience. You can check and download the latest version of the N26 app from the Apple App Store ) or the Google Play Store ).  Please be aware, there are minimum requirements for all phones to ensure proper usage. These requirements are listed below:  iOS:   Model iPhone 6s iOS 15 or above (You can find your iOS version under Settings > General > Informations). Android:   Android 8 or above.(You can find your Android version under Settings > About your device). Native support of Google Services  How to contact N26? There are several ways you can reach out to our customer support team, but the best option is always opening a secure chat while you’re logged into the App. This will allow us to verify your identity, and provide, an issue with your account. N26 will never text you to request that you contact us via phone and never place outbound calls to customers unless these are arranged via the in-app Messages from N26 beforehand. Any N26 communication will be visible via the application. When in doubt, disengage and contact N26 Support via the in-app channels. 2) Fraudsters try to push you to download a new application outside the Apple or Google store. The only location to obtain the N26 app is via the Google Play store and the Apple App store. N26 does not have additional security applications. You do not need to download any additional applications to secure, certify, or use your N26 account. 3) Fraudsters try to push you to change your device's settings related to Security, Accessibility, or Developer Settings, to take control of your device. N26 will never require changes to these settings. Any instructions to change these settings should be cause for alarm. What should I do if I suspect malware or a virus on my device?   If, place—from your N26 app. No need to download a new app or make a new account to start trading crypto, just scroll down from your bank account to check it out.  Try N26 Crypto in your N26 app by following these steps:  Tap the Finances tab and scroll to Trading Select Get started with crypto and browse the coins If you’re ready, hit Buy and sign up in just a minute Tada — enjoy being a digital currency owner!  Crypto may seem like a tough nut to crack—but, as always, we’ve got your back.  Why don’t I see N26 Crypto in my app?   We are in the process of rolling out N26 Crypto to eligible N26 customers in Belgium, Ireland, and Portugal. This rollout will be conducted in phases, so if you don’t see N26 Crypto in your app now, check back in several weeks. To access N26 Crypto, always make sure your N26 app is fully up to date. Please note that N26 Crypto will initially be available only to eligible customers to whom the terms and conditions of an N26 bank account in Belgium, Ireland, and Portugal apply. Customers, Luxembourg, Estonia, Latvia, and Lithuania A legal address in one of the following countries: Austria, Netherlands, Ireland, Portugal, Slovenia, Greece, Belgium, Finland, Slovakia, Luxembourg, Estonia, Latvia, and Lithuania Please note: To benefit from this offer, you’ll need to open an N26 account. After that, you may open a separate N26 Instant Savings account to earn interest alongside everyday banking. Please note that you’ll only be able to open an N26 Instant Savings account if you meet the eligibility requirements. Interest is earned only on funds held in your Instant Savings account.  Why can't I find N26 Instant Savings in my app?  If you can’t find the option to sign up for N26 Instant Savings in the finances section of the app, you’re currently not eligible. Bear in mind that it can take up to 5 working days for us to verify your tax ID. You can check our eligibility criteria in the dedicated article.  Can I sign-up for N26 Instant Savings if I'm tax-liable in the U.S.?  Yes, this product is now, includes your first and last name, date of birth, the IBAN of your account, and the date you opened it.  Your certificate may also include your current account balance and the card numbers of your active cards, if you choose. For security reasons, these will be partially hidden with asterisks.  How do I request a bank account ownership certificate?   To request the bank account ownership certificate including your account balance and card number, click on the download ) icon*. Then, under Account Confirmation, select whether you want to include your current balance and/or the card numbers of your active cards and click Request. The PDF will appear in the Messages from N26 section.   How can I download the confirmation for a SEPA transfer? If you have sent a bank transfer from your N26 account and need confirmation of the sending or receipt, you can download the PDF file with the transaction data from your mobile app or WebApp. That's how:  Log into your N26 app From the list of transactions, select the bank]  \n",
       "2           [an issue with your account. N26 will never text you to request that you contact us via phone and never place outbound calls to customers unless these are arranged via the in-app Messages from N26 beforehand. Any N26 communication will be visible via the application. When in doubt, disengage and contact N26 Support via the in-app channels. 2) Fraudsters try to push you to download a new application outside the Apple or Google store. The only location to obtain the N26 app is via the Google Play store and the Apple App store. N26 does not have additional security applications. You do not need to download any additional applications to secure, certify, or use your N26 account. 3) Fraudsters try to push you to change your device's settings related to Security, Accessibility, or Developer Settings, to take control of your device. N26 will never require changes to these settings. Any instructions to change these settings should be cause for alarm. What should I do if I suspect malware or a virus on my device?   If, the Security, Accessibility, or Developer Settings of your device.  The official version of the N26 app is available exclusively via the Apple and Google stores. We would never ask you to download anything else to secure your account.  Step 3: Transfer of your funds to a fake “secure account”   If they fail to make you download the malware, they will try to make you transfer your money to a so-called “secure” or “temporary” account, as an alternative security measure. We will never ask you to transfer money to another account. Just like asking you to download another app, both are obvious signs of fraud ).  Warning: Downloading unlicensed applications can severely compromise your account, as it allows fraudsters to take full control of your phone and N26 account.  For a more detailed article about malware fraud prevention, see this article. Why is N26 secure? To protect your account, we use a three-layered security architecture:  Secure login. Your login details of both the mobile and WebApp ) consist of a, compromised, you should lock your card immediately in your N26 app, and reorder a new one to keep your money safe.   What if I’ve lost my paired device? Could someone access my account?   If your paired device is lost or stolen, rest assured that your N26 app can only be accessed when the right password is entered, or with fingerprint or facial recognition. Our customer service team will be able to assist you in pairing a new device to your N26 account when you have one.   Where can I learn more about security at N26?   To learn more about how we protect your account in case of fraud, visit our blog article ). Visit our page about Security at N26 ) to discover our commitment to protect your funds and your account.  Chat is available everyday from 07:00-23:00 including Sundays and bank holidays.  If you do not have access to your N26 mobile app or your N26 webapp login, you can also request to block your card or account by calling us at +44 2035 107126 or +49 303 6428 6881 (both lines in English).   Can N26, AI to run advanced statistical models and algorithms, alongside human behavior analysis.   Where does N26 invest my money? We strive to provide our clients' deposits for loans to our customers (provided that they have the appropriate credit rating). For the liquidity not required in the customer business, our investment strategy is low in risk.  We invest our customers' money at short notice with the Deutsche Bundesbank and other European banks in the eurozone with only good risk classes. And we refinance public-law customers mainly in Germany (cities and municipalities) and invest in euro government bonds.  We're not a trading book institute. That is: we do not trade for short-term profit.  And we don't engage in speculation, whether on food, foreign exchange, bitcoins or other asset classes.   Why does N26 do checks on transactions? We have the responsibility to run routine checks on accounts and transactions in order to ensure your account’s security (see GwG § 10 )). These checks are automatically, Support Center articles linked above. How to change my confirmation PIN? Step by Step Instructions:   Android iPhone      The confirmation PIN is the code you use to confirm transfers or any other transactions you make from your N26 app. If you aren’t sure what it is, remember that you created your own confirmation PIN when you paired your smartphone ) with your account for the first time.  If you’ve forgotten your PIN code or want to change it, you can do so at any time. Simply follow these steps:  Open your N26 app, go to My Account, then Settings, and then tap Security or click Choose Change confirmation PIN Enter your card token, the 10-digit number that appears below your name on the front of your card (for N26 Smart, You, and Metal cards, the number appears on the back) Create and confirm your new confirmation PIN If you enter your Confirmation PIN incorrectly 6 times in a row, you'll have to reset it before trying again.  For security reasons we don’t accept any PIN containing elements of your birth]  \n",
       "3                                                                                                                                                                                                                                                                                                                                                                                                                                                                                                                                                                                                                                                                                                                                                                                                                                                                                                                                                                                                                                                                       [an issue with your account. N26 will never text you to request that you contact us via phone and never place outbound calls to customers unless these are arranged via the in-app Messages from N26 beforehand. Any N26 communication will be visible via the application. When in doubt, disengage and contact N26 Support via the in-app channels. 2) Fraudsters try to push you to download a new application outside the Apple or Google store. The only location to obtain the N26 app is via the Google Play store and the Apple App store. N26 does not have additional security applications. You do not need to download any additional applications to secure, certify, or use your N26 account. 3) Fraudsters try to push you to change your device's settings related to Security, Accessibility, or Developer Settings, to take control of your device. N26 will never require changes to these settings. Any instructions to change these settings should be cause for alarm. What should I do if I suspect malware or a virus on my device?   If, the Security, Accessibility, or Developer Settings of your device.  The official version of the N26 app is available exclusively via the Apple and Google stores. We would never ask you to download anything else to secure your account.  Step 3: Transfer of your funds to a fake “secure account”   If they fail to make you download the malware, they will try to make you transfer your money to a so-called “secure” or “temporary” account, as an alternative security measure. We will never ask you to transfer money to another account. Just like asking you to download another app, both are obvious signs of fraud ).  Warning: Downloading unlicensed applications can severely compromise your account, as it allows fraudsters to take full control of your phone and N26 account.  For a more detailed article about malware fraud prevention, see this article. Why is N26 secure? To protect your account, we use a three-layered security architecture:  Secure login. Your login details of both the mobile and WebApp ) consist of a, Click on “Unpair Phone” and follow the steps. Enter your Confirmation PIN when prompted. Your phone and your N26 account are no longer paired. How to keep my banking data safe online? Whether shopping, banking or managing your inbox, here are some tips to keep you and your data safe in the digital space:  Keep your N26 app and mobile OS updated with the latest bug fixes Use fingerprint scanning or facial recognition to log in Create strong passwords with letters, numbers and symbols - and never use the same one across multiple accounts Never post sensitive personal information online via social media platforms Be careful with public or shared WIFI connections - always choose secure WPA2 connections over WEP connections Choose email providers with security and spam filters and two-factor authentication like Gmail and Yahoo! Watch out for offers that are too good to be true - they probably are Shop only at trusted websites of well-known retailers Check that websites are secure - look for the lock by the URL, ) To access educational material in all languages, see here ). How to protect my account? The security of your account and your personal data is our top priority.  If you ever feel that your N26 login may be compromised or that someone is trying to initiate a chat on your behalf, it’s crucial to immediately change your N26 account password.  To do so, log into the app and go to My Account > Security > Change login Password. Please choose a secure password and don’t reveal your login details to anyone.  As the account holder, you and only you should create and have access to your login details. For further advice on identity protection, we encourage you to visit our article How to protect my identity?  If you believe that your account has been compromised or tampered in any way then please get in touch with us immediately.  If you do not have access to your N26 mobile app or your N26 webapp login, you can also request to block your card or account by calling us at +44 2035 107126 or +49 303 6428 6881 (both]  \n",
       "4                                                                                                                                                                                                                                                                                                                                                                                                                                                                                                                                                                                                                                                                                                                                                                                                                                                                                                                                                                                                                                                                       [use an infected machine to access your account, a bad actor could gain access to your N26 login credentials or other personal information and use this against you at a later date. Because of the way many of these malicious programs work, resetting an account password has no effect if the infected machine is used to do this since the new password is recorded for the attacker to use.    What do I do if I suspect malware or a virus on my device?   If you believe there is an infection on a machine you use it is critical that you run malware detecting software and regularly update your antivirus. Keeping your machine's operating system up to date is also critical as many operating systems regularly push updates to resolve security issues.   Please refer to the below resources for more information on malware and how to protect your device:  English ) German ) Italian ) Spanish ) French ) To access educational material in all languages see here ). What to do if my account may be compromised? Fraud hotline - Contact, on my device?   If you believe there's an infection on a device you use, it's critical that you run malware-detecting software and regularly update your antivirus. Keeping your device's operating system up to date is also critical as many operating systems regularly push updates to resolve security issues.   If you suspect you're the victim of a scam attempt, immediately end all communication with the suspected scammer and proactively contact N26 through our official channels.  Please refer to the below resources for more information on malware and how to protect your device:  How to protect my account? ) Do you have malware on your phone? Here's how to check ) Wie kann ich mein Konto schützen? ) Was ist Malware und wie kann ich mich davor schützen? ) Come proteggere il mio conto? ) Malware: cos’è, come funziona e come proteggersi ) ¿Cómo proteger mi cuenta? ) Malware: qué es, qué tipos hay y cómo protegerse ) Comment protéger mon compte? ) Malwares : Comment déjouer et éradiquer la menace ? ) To access, 303 6428 6881 (both lines in English) .  Is my N26 account compromised if I use a device that is infected with a virus or malware?   In today’s world, computers and smartphones dominate most interactions, and computer viruses represent a very common risk. While prevention and detection of these issues is often built into modern day technology, it's important for N26 users to understand the impact using an infected machine can have on the security of their assets and what steps to take to resolve issues if there is suspicion of an infection.   Oftentimes, viruses are perpetrated to unsuspecting users by bad actors as a means to an end with a desire to gain information that can be used to harm and victimise targets in other ways. These can have a variety of benefits to the attacker in that the user of an infected machine is unknowingly providing their every keystroke to an attacker. This means usernames, passwords, bank account balances, file names, email messages, etc.    If you unknowingly use an infected, an issue with your account. N26 will never text you to request that you contact us via phone and never place outbound calls to customers unless these are arranged via the in-app Messages from N26 beforehand. Any N26 communication will be visible via the application. When in doubt, disengage and contact N26 Support via the in-app channels. 2) Fraudsters try to push you to download a new application outside the Apple or Google store. The only location to obtain the N26 app is via the Google Play store and the Apple App store. N26 does not have additional security applications. You do not need to download any additional applications to secure, certify, or use your N26 account. 3) Fraudsters try to push you to change your device's settings related to Security, Accessibility, or Developer Settings, to take control of your device. N26 will never require changes to these settings. Any instructions to change these settings should be cause for alarm. What should I do if I suspect malware or a virus on my device?   If]  \n",
       "5                 [on my device?   If you believe there's an infection on a device you use, it's critical that you run malware-detecting software and regularly update your antivirus. Keeping your device's operating system up to date is also critical as many operating systems regularly push updates to resolve security issues.   If you suspect you're the victim of a scam attempt, immediately end all communication with the suspected scammer and proactively contact N26 through our official channels.  Please refer to the below resources for more information on malware and how to protect your device:  How to protect my account? ) Do you have malware on your phone? Here's how to check ) Wie kann ich mein Konto schützen? ) Was ist Malware und wie kann ich mich davor schützen? ) Come proteggere il mio conto? ) Malware: cos’è, come funziona e come proteggersi ) ¿Cómo proteger mi cuenta? ) Malware: qué es, qué tipos hay y cómo protegerse ) Comment protéger mon compte? ) Malwares : Comment déjouer et éradiquer la menace ? ) To access, use an infected machine to access your account, a bad actor could gain access to your N26 login credentials or other personal information and use this against you at a later date. Because of the way many of these malicious programs work, resetting an account password has no effect if the infected machine is used to do this since the new password is recorded for the attacker to use.    What do I do if I suspect malware or a virus on my device?   If you believe there is an infection on a machine you use it is critical that you run malware detecting software and regularly update your antivirus. Keeping your machine's operating system up to date is also critical as many operating systems regularly push updates to resolve security issues.   Please refer to the below resources for more information on malware and how to protect your device:  English ) German ) Italian ) Spanish ) French ) To access educational material in all languages see here ). What to do if my account may be compromised? Fraud hotline - Contact, excitement is one of the most common social engineering tactics that scammers rely on. They want people to act first and think later. Remember: If an offer — online or offline — seems too good to be true, it probably is.  Use multi-factor-authentication (also known as 2-Factor Authentication or 2FA), which uses your smartphone or another device to confirm your access to your accounts. Always double-check links sent in emails. When in doubt, search online for the website rather than clicking on the link itself. Never download files, share personal information, or click on links from unknown senders.  How to protect yourself when your phone is lost or stolen Losing your phone or experiencing theft can be a highly stressful event, but taking immediate action can help secure your personal information and reduce the risk of financial loss. Here are five critical steps you should follow:  1. Block the SIM Card of Your Lost or Stolen Phone   Immediately contact your mobile service provider to block your SIM card., on how to determine if you are resident in the jurisdiction on the following website:OECD AEOI Portal ).    Where to find your Tax ID Your Tax Identification Number (TIN) is unique to you, and issued by the tax authority upon registration with them in the country where you as an individual are a taxpayer.  Where to find Your TIN can differ depending on which country you are tax eligible. Please be aware that each country's TIN name can be different, e.g. If you’re from the UK you can think of your TIN number like your National Insurance Number (NIN).  Where to find your Tax ID for Austrian residents:   If you’re a resident in Austria, you can request your 9 digit Tax ID (“Steuernummer”) at your local tax authority (“Finanzamt”). You can also request it via Finanzonline. If you’re already subject to taxation or filed a tax return in the past, you can find your Tax ID in the following places:  Via Finanzonline ). (Log in with your credentials or with your ID Austria/mobile phone signature and click on, 303 6428 6881 (both lines in English) .  Is my N26 account compromised if I use a device that is infected with a virus or malware?   In today’s world, computers and smartphones dominate most interactions, and computer viruses represent a very common risk. While prevention and detection of these issues is often built into modern day technology, it's important for N26 users to understand the impact using an infected machine can have on the security of their assets and what steps to take to resolve issues if there is suspicion of an infection.   Oftentimes, viruses are perpetrated to unsuspecting users by bad actors as a means to an end with a desire to gain information that can be used to harm and victimise targets in other ways. These can have a variety of benefits to the attacker in that the user of an infected machine is unknowingly providing their every keystroke to an attacker. This means usernames, passwords, bank account balances, file names, email messages, etc.    If you unknowingly use an infected]  "
      ]
     },
     "execution_count": 22,
     "metadata": {},
     "output_type": "execute_result"
    }
   ],
   "source": [
    "test_result[[\"user_input\",\"response\", \"reference\", \"retrieved_contexts\",  ]]"
   ]
  },
  {
   "cell_type": "code",
   "execution_count": null,
   "id": "790f3afc-b4cb-4453-95be-79f67b9b5886",
   "metadata": {},
   "outputs": [],
   "source": []
  },
  {
   "cell_type": "code",
   "execution_count": 23,
   "id": "12d33992-6176-44b4-9e65-9bc06be8186e",
   "metadata": {
    "scrolled": true
   },
   "outputs": [
    {
     "data": {
      "text/plain": [
       "[\"an issue with your account. N26 will never text you to request that you contact us via phone and never place outbound calls to customers unless these are arranged via the in-app Messages from N26 beforehand. Any N26 communication will be visible via the application. When in doubt, disengage and contact N26 Support via the in-app channels. 2) Fraudsters try to push you to download a new application outside the Apple or Google store. The only location to obtain the N26 app is via the Google Play store and the Apple App store. N26 does not have additional security applications. You do not need to download any additional applications to secure, certify, or use your N26 account. 3) Fraudsters try to push you to change your device's settings related to Security, Accessibility, or Developer Settings, to take control of your device. N26 will never require changes to these settings. Any instructions to change these settings should be cause for alarm. What should I do if I suspect malware or a virus on my device?   If\",\n",
       " 'the Security, Accessibility, or Developer Settings of your device.  The official version of the N26 app is available exclusively via the Apple and Google stores. We would never ask you to download anything else to secure your account.  Step 3: Transfer of your funds to a fake “secure account”   If they fail to make you download the malware, they will try to make you transfer your money to a so-called “secure” or “temporary” account, as an alternative security measure. We will never ask you to transfer money to another account. Just like asking you to download another app, both are obvious signs of fraud ).  Warning: Downloading unlicensed applications can severely compromise your account, as it allows fraudsters to take full control of your phone and N26 account.  For a more detailed article about malware fraud prevention, see this article. Why is N26 secure? To protect your account, we use a three-layered security architecture:  Secure login. Your login details of both the mobile and WebApp ) consist of a',\n",
       " 'compromised, you should lock your card immediately in your N26 app, and reorder a new one to keep your money safe.   What if I’ve lost my paired device? Could someone access my account?   If your paired device is lost or stolen, rest assured that your N26 app can only be accessed when the right password is entered, or with fingerprint or facial recognition. Our customer service team will be able to assist you in pairing a new device to your N26 account when you have one.   Where can I learn more about security at N26?   To learn more about how we protect your account in case of fraud, visit our blog article ). Visit our page about Security at N26 ) to discover our commitment to protect your funds and your account.  Chat is available everyday from 07:00-23:00 including Sundays and bank holidays.  If you do not have access to your N26 mobile app or your N26 webapp login, you can also request to block your card or account by calling us at +44 2035 107126 or +49 303 6428 6881 (both lines in English).   Can N26',\n",
       " \"AI to run advanced statistical models and algorithms, alongside human behavior analysis.   Where does N26 invest my money? We strive to provide our clients' deposits for loans to our customers (provided that they have the appropriate credit rating). For the liquidity not required in the customer business, our investment strategy is low in risk.  We invest our customers' money at short notice with the Deutsche Bundesbank and other European banks in the eurozone with only good risk classes. And we refinance public-law customers mainly in Germany (cities and municipalities) and invest in euro government bonds.  We're not a trading book institute. That is: we do not trade for short-term profit.  And we don't engage in speculation, whether on food, foreign exchange, bitcoins or other asset classes.   Why does N26 do checks on transactions? We have the responsibility to run routine checks on accounts and transactions in order to ensure your account’s security (see GwG § 10 )). These checks are automatically\",\n",
       " \"Support Center articles linked above. How to change my confirmation PIN? Step by Step Instructions:   Android iPhone      The confirmation PIN is the code you use to confirm transfers or any other transactions you make from your N26 app. If you aren’t sure what it is, remember that you created your own confirmation PIN when you paired your smartphone ) with your account for the first time.  If you’ve forgotten your PIN code or want to change it, you can do so at any time. Simply follow these steps:  Open your N26 app, go to My Account, then Settings, and then tap Security or click Choose Change confirmation PIN Enter your card token, the 10-digit number that appears below your name on the front of your card (for N26 Smart, You, and Metal cards, the number appears on the back) Create and confirm your new confirmation PIN If you enter your Confirmation PIN incorrectly 6 times in a row, you'll have to reset it before trying again.  For security reasons we don’t accept any PIN containing elements of your birth\"]"
      ]
     },
     "execution_count": 23,
     "metadata": {},
     "output_type": "execute_result"
    }
   ],
   "source": [
    "test_result[\"retrieved_contexts\"][2]"
   ]
  },
  {
   "cell_type": "code",
   "execution_count": null,
   "id": "ca4780d2-2d8f-4f78-8a75-1d64b761e91b",
   "metadata": {},
   "outputs": [],
   "source": []
  }
 ],
 "metadata": {
  "kernelspec": {
   "display_name": "logiclane_env",
   "language": "python",
   "name": "logiclane_env"
  },
  "language_info": {
   "codemirror_mode": {
    "name": "ipython",
    "version": 3
   },
   "file_extension": ".py",
   "mimetype": "text/x-python",
   "name": "python",
   "nbconvert_exporter": "python",
   "pygments_lexer": "ipython3",
   "version": "3.11.10"
  }
 },
 "nbformat": 4,
 "nbformat_minor": 5
}
